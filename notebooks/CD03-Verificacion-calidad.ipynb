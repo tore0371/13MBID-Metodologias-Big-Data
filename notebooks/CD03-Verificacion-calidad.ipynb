{
 "cells": [
  {
   "cell_type": "markdown",
   "metadata": {},
   "source": [
    "## Máster en Big Data y Data Science\n",
    "\n",
    "### Metodologías de gestión y diseño de proyectos de big data\n",
    "\n",
    "#### AP1 - Verificación de la calidad de los datos (versión completa)\n",
    "\n",
    "---\n",
    "\n",
    "En esta libreta se realiza una verificación de calidad de datos con base en los planteado en el Anexo SP4. \n",
    "\n",
    "---"
   ]
  },
  {
   "cell_type": "code",
   "execution_count": 1,
   "metadata": {},
   "outputs": [],
   "source": [
    "#Se importan las librerias a utilizar\n",
    "\n",
    "import pandas as pd"
   ]
  },
  {
   "cell_type": "markdown",
   "metadata": {},
   "source": [
    "----\n",
    "\n",
    "##### Lectura de los datasets"
   ]
  },
  {
   "cell_type": "code",
   "execution_count": 2,
   "metadata": {},
   "outputs": [
    {
     "ename": "FileNotFoundError",
     "evalue": "[Errno 2] No such file or directory: '../../data/processed/datos_creditos_mc.csv'",
     "output_type": "error",
     "traceback": [
      "\u001b[0;31m---------------------------------------------------------------------------\u001b[0m",
      "\u001b[0;31mFileNotFoundError\u001b[0m                         Traceback (most recent call last)",
      "Cell \u001b[0;32mIn[2], line 1\u001b[0m\n\u001b[0;32m----> 1\u001b[0m df_creditos \u001b[38;5;241m=\u001b[39m \u001b[43mpd\u001b[49m\u001b[38;5;241;43m.\u001b[39;49m\u001b[43mread_csv\u001b[49m\u001b[43m(\u001b[49m\u001b[38;5;124;43m\"\u001b[39;49m\u001b[38;5;124;43m../../data/processed/datos_creditos_mc.csv\u001b[39;49m\u001b[38;5;124;43m\"\u001b[39;49m\u001b[43m,\u001b[49m\u001b[43m \u001b[49m\u001b[43msep\u001b[49m\u001b[38;5;241;43m=\u001b[39;49m\u001b[38;5;124;43m\"\u001b[39;49m\u001b[38;5;124;43m;\u001b[39;49m\u001b[38;5;124;43m\"\u001b[39;49m\u001b[43m)\u001b[49m\n\u001b[1;32m      2\u001b[0m display(df_creditos\u001b[38;5;241m.\u001b[39mhead(\u001b[38;5;241m1\u001b[39m))\n\u001b[1;32m      4\u001b[0m df_tarjetas \u001b[38;5;241m=\u001b[39m pd\u001b[38;5;241m.\u001b[39mread_csv(\u001b[38;5;124m\"\u001b[39m\u001b[38;5;124m../../data/processed/datos_tarjetas_mc.csv\u001b[39m\u001b[38;5;124m\"\u001b[39m, sep\u001b[38;5;241m=\u001b[39m\u001b[38;5;124m\"\u001b[39m\u001b[38;5;124m;\u001b[39m\u001b[38;5;124m\"\u001b[39m)\n",
      "File \u001b[0;32m~/Desktop/13MBID-Metodologias-Big-Data/.env/lib/python3.9/site-packages/pandas/io/parsers/readers.py:1026\u001b[0m, in \u001b[0;36mread_csv\u001b[0;34m(filepath_or_buffer, sep, delimiter, header, names, index_col, usecols, dtype, engine, converters, true_values, false_values, skipinitialspace, skiprows, skipfooter, nrows, na_values, keep_default_na, na_filter, verbose, skip_blank_lines, parse_dates, infer_datetime_format, keep_date_col, date_parser, date_format, dayfirst, cache_dates, iterator, chunksize, compression, thousands, decimal, lineterminator, quotechar, quoting, doublequote, escapechar, comment, encoding, encoding_errors, dialect, on_bad_lines, delim_whitespace, low_memory, memory_map, float_precision, storage_options, dtype_backend)\u001b[0m\n\u001b[1;32m   1013\u001b[0m kwds_defaults \u001b[38;5;241m=\u001b[39m _refine_defaults_read(\n\u001b[1;32m   1014\u001b[0m     dialect,\n\u001b[1;32m   1015\u001b[0m     delimiter,\n\u001b[0;32m   (...)\u001b[0m\n\u001b[1;32m   1022\u001b[0m     dtype_backend\u001b[38;5;241m=\u001b[39mdtype_backend,\n\u001b[1;32m   1023\u001b[0m )\n\u001b[1;32m   1024\u001b[0m kwds\u001b[38;5;241m.\u001b[39mupdate(kwds_defaults)\n\u001b[0;32m-> 1026\u001b[0m \u001b[38;5;28;01mreturn\u001b[39;00m \u001b[43m_read\u001b[49m\u001b[43m(\u001b[49m\u001b[43mfilepath_or_buffer\u001b[49m\u001b[43m,\u001b[49m\u001b[43m \u001b[49m\u001b[43mkwds\u001b[49m\u001b[43m)\u001b[49m\n",
      "File \u001b[0;32m~/Desktop/13MBID-Metodologias-Big-Data/.env/lib/python3.9/site-packages/pandas/io/parsers/readers.py:620\u001b[0m, in \u001b[0;36m_read\u001b[0;34m(filepath_or_buffer, kwds)\u001b[0m\n\u001b[1;32m    617\u001b[0m _validate_names(kwds\u001b[38;5;241m.\u001b[39mget(\u001b[38;5;124m\"\u001b[39m\u001b[38;5;124mnames\u001b[39m\u001b[38;5;124m\"\u001b[39m, \u001b[38;5;28;01mNone\u001b[39;00m))\n\u001b[1;32m    619\u001b[0m \u001b[38;5;66;03m# Create the parser.\u001b[39;00m\n\u001b[0;32m--> 620\u001b[0m parser \u001b[38;5;241m=\u001b[39m \u001b[43mTextFileReader\u001b[49m\u001b[43m(\u001b[49m\u001b[43mfilepath_or_buffer\u001b[49m\u001b[43m,\u001b[49m\u001b[43m \u001b[49m\u001b[38;5;241;43m*\u001b[39;49m\u001b[38;5;241;43m*\u001b[39;49m\u001b[43mkwds\u001b[49m\u001b[43m)\u001b[49m\n\u001b[1;32m    622\u001b[0m \u001b[38;5;28;01mif\u001b[39;00m chunksize \u001b[38;5;129;01mor\u001b[39;00m iterator:\n\u001b[1;32m    623\u001b[0m     \u001b[38;5;28;01mreturn\u001b[39;00m parser\n",
      "File \u001b[0;32m~/Desktop/13MBID-Metodologias-Big-Data/.env/lib/python3.9/site-packages/pandas/io/parsers/readers.py:1620\u001b[0m, in \u001b[0;36mTextFileReader.__init__\u001b[0;34m(self, f, engine, **kwds)\u001b[0m\n\u001b[1;32m   1617\u001b[0m     \u001b[38;5;28mself\u001b[39m\u001b[38;5;241m.\u001b[39moptions[\u001b[38;5;124m\"\u001b[39m\u001b[38;5;124mhas_index_names\u001b[39m\u001b[38;5;124m\"\u001b[39m] \u001b[38;5;241m=\u001b[39m kwds[\u001b[38;5;124m\"\u001b[39m\u001b[38;5;124mhas_index_names\u001b[39m\u001b[38;5;124m\"\u001b[39m]\n\u001b[1;32m   1619\u001b[0m \u001b[38;5;28mself\u001b[39m\u001b[38;5;241m.\u001b[39mhandles: IOHandles \u001b[38;5;241m|\u001b[39m \u001b[38;5;28;01mNone\u001b[39;00m \u001b[38;5;241m=\u001b[39m \u001b[38;5;28;01mNone\u001b[39;00m\n\u001b[0;32m-> 1620\u001b[0m \u001b[38;5;28mself\u001b[39m\u001b[38;5;241m.\u001b[39m_engine \u001b[38;5;241m=\u001b[39m \u001b[38;5;28;43mself\u001b[39;49m\u001b[38;5;241;43m.\u001b[39;49m\u001b[43m_make_engine\u001b[49m\u001b[43m(\u001b[49m\u001b[43mf\u001b[49m\u001b[43m,\u001b[49m\u001b[43m \u001b[49m\u001b[38;5;28;43mself\u001b[39;49m\u001b[38;5;241;43m.\u001b[39;49m\u001b[43mengine\u001b[49m\u001b[43m)\u001b[49m\n",
      "File \u001b[0;32m~/Desktop/13MBID-Metodologias-Big-Data/.env/lib/python3.9/site-packages/pandas/io/parsers/readers.py:1880\u001b[0m, in \u001b[0;36mTextFileReader._make_engine\u001b[0;34m(self, f, engine)\u001b[0m\n\u001b[1;32m   1878\u001b[0m     \u001b[38;5;28;01mif\u001b[39;00m \u001b[38;5;124m\"\u001b[39m\u001b[38;5;124mb\u001b[39m\u001b[38;5;124m\"\u001b[39m \u001b[38;5;129;01mnot\u001b[39;00m \u001b[38;5;129;01min\u001b[39;00m mode:\n\u001b[1;32m   1879\u001b[0m         mode \u001b[38;5;241m+\u001b[39m\u001b[38;5;241m=\u001b[39m \u001b[38;5;124m\"\u001b[39m\u001b[38;5;124mb\u001b[39m\u001b[38;5;124m\"\u001b[39m\n\u001b[0;32m-> 1880\u001b[0m \u001b[38;5;28mself\u001b[39m\u001b[38;5;241m.\u001b[39mhandles \u001b[38;5;241m=\u001b[39m \u001b[43mget_handle\u001b[49m\u001b[43m(\u001b[49m\n\u001b[1;32m   1881\u001b[0m \u001b[43m    \u001b[49m\u001b[43mf\u001b[49m\u001b[43m,\u001b[49m\n\u001b[1;32m   1882\u001b[0m \u001b[43m    \u001b[49m\u001b[43mmode\u001b[49m\u001b[43m,\u001b[49m\n\u001b[1;32m   1883\u001b[0m \u001b[43m    \u001b[49m\u001b[43mencoding\u001b[49m\u001b[38;5;241;43m=\u001b[39;49m\u001b[38;5;28;43mself\u001b[39;49m\u001b[38;5;241;43m.\u001b[39;49m\u001b[43moptions\u001b[49m\u001b[38;5;241;43m.\u001b[39;49m\u001b[43mget\u001b[49m\u001b[43m(\u001b[49m\u001b[38;5;124;43m\"\u001b[39;49m\u001b[38;5;124;43mencoding\u001b[39;49m\u001b[38;5;124;43m\"\u001b[39;49m\u001b[43m,\u001b[49m\u001b[43m \u001b[49m\u001b[38;5;28;43;01mNone\u001b[39;49;00m\u001b[43m)\u001b[49m\u001b[43m,\u001b[49m\n\u001b[1;32m   1884\u001b[0m \u001b[43m    \u001b[49m\u001b[43mcompression\u001b[49m\u001b[38;5;241;43m=\u001b[39;49m\u001b[38;5;28;43mself\u001b[39;49m\u001b[38;5;241;43m.\u001b[39;49m\u001b[43moptions\u001b[49m\u001b[38;5;241;43m.\u001b[39;49m\u001b[43mget\u001b[49m\u001b[43m(\u001b[49m\u001b[38;5;124;43m\"\u001b[39;49m\u001b[38;5;124;43mcompression\u001b[39;49m\u001b[38;5;124;43m\"\u001b[39;49m\u001b[43m,\u001b[49m\u001b[43m \u001b[49m\u001b[38;5;28;43;01mNone\u001b[39;49;00m\u001b[43m)\u001b[49m\u001b[43m,\u001b[49m\n\u001b[1;32m   1885\u001b[0m \u001b[43m    \u001b[49m\u001b[43mmemory_map\u001b[49m\u001b[38;5;241;43m=\u001b[39;49m\u001b[38;5;28;43mself\u001b[39;49m\u001b[38;5;241;43m.\u001b[39;49m\u001b[43moptions\u001b[49m\u001b[38;5;241;43m.\u001b[39;49m\u001b[43mget\u001b[49m\u001b[43m(\u001b[49m\u001b[38;5;124;43m\"\u001b[39;49m\u001b[38;5;124;43mmemory_map\u001b[39;49m\u001b[38;5;124;43m\"\u001b[39;49m\u001b[43m,\u001b[49m\u001b[43m \u001b[49m\u001b[38;5;28;43;01mFalse\u001b[39;49;00m\u001b[43m)\u001b[49m\u001b[43m,\u001b[49m\n\u001b[1;32m   1886\u001b[0m \u001b[43m    \u001b[49m\u001b[43mis_text\u001b[49m\u001b[38;5;241;43m=\u001b[39;49m\u001b[43mis_text\u001b[49m\u001b[43m,\u001b[49m\n\u001b[1;32m   1887\u001b[0m \u001b[43m    \u001b[49m\u001b[43merrors\u001b[49m\u001b[38;5;241;43m=\u001b[39;49m\u001b[38;5;28;43mself\u001b[39;49m\u001b[38;5;241;43m.\u001b[39;49m\u001b[43moptions\u001b[49m\u001b[38;5;241;43m.\u001b[39;49m\u001b[43mget\u001b[49m\u001b[43m(\u001b[49m\u001b[38;5;124;43m\"\u001b[39;49m\u001b[38;5;124;43mencoding_errors\u001b[39;49m\u001b[38;5;124;43m\"\u001b[39;49m\u001b[43m,\u001b[49m\u001b[43m \u001b[49m\u001b[38;5;124;43m\"\u001b[39;49m\u001b[38;5;124;43mstrict\u001b[39;49m\u001b[38;5;124;43m\"\u001b[39;49m\u001b[43m)\u001b[49m\u001b[43m,\u001b[49m\n\u001b[1;32m   1888\u001b[0m \u001b[43m    \u001b[49m\u001b[43mstorage_options\u001b[49m\u001b[38;5;241;43m=\u001b[39;49m\u001b[38;5;28;43mself\u001b[39;49m\u001b[38;5;241;43m.\u001b[39;49m\u001b[43moptions\u001b[49m\u001b[38;5;241;43m.\u001b[39;49m\u001b[43mget\u001b[49m\u001b[43m(\u001b[49m\u001b[38;5;124;43m\"\u001b[39;49m\u001b[38;5;124;43mstorage_options\u001b[39;49m\u001b[38;5;124;43m\"\u001b[39;49m\u001b[43m,\u001b[49m\u001b[43m \u001b[49m\u001b[38;5;28;43;01mNone\u001b[39;49;00m\u001b[43m)\u001b[49m\u001b[43m,\u001b[49m\n\u001b[1;32m   1889\u001b[0m \u001b[43m\u001b[49m\u001b[43m)\u001b[49m\n\u001b[1;32m   1890\u001b[0m \u001b[38;5;28;01massert\u001b[39;00m \u001b[38;5;28mself\u001b[39m\u001b[38;5;241m.\u001b[39mhandles \u001b[38;5;129;01mis\u001b[39;00m \u001b[38;5;129;01mnot\u001b[39;00m \u001b[38;5;28;01mNone\u001b[39;00m\n\u001b[1;32m   1891\u001b[0m f \u001b[38;5;241m=\u001b[39m \u001b[38;5;28mself\u001b[39m\u001b[38;5;241m.\u001b[39mhandles\u001b[38;5;241m.\u001b[39mhandle\n",
      "File \u001b[0;32m~/Desktop/13MBID-Metodologias-Big-Data/.env/lib/python3.9/site-packages/pandas/io/common.py:873\u001b[0m, in \u001b[0;36mget_handle\u001b[0;34m(path_or_buf, mode, encoding, compression, memory_map, is_text, errors, storage_options)\u001b[0m\n\u001b[1;32m    868\u001b[0m \u001b[38;5;28;01melif\u001b[39;00m \u001b[38;5;28misinstance\u001b[39m(handle, \u001b[38;5;28mstr\u001b[39m):\n\u001b[1;32m    869\u001b[0m     \u001b[38;5;66;03m# Check whether the filename is to be opened in binary mode.\u001b[39;00m\n\u001b[1;32m    870\u001b[0m     \u001b[38;5;66;03m# Binary mode does not support 'encoding' and 'newline'.\u001b[39;00m\n\u001b[1;32m    871\u001b[0m     \u001b[38;5;28;01mif\u001b[39;00m ioargs\u001b[38;5;241m.\u001b[39mencoding \u001b[38;5;129;01mand\u001b[39;00m \u001b[38;5;124m\"\u001b[39m\u001b[38;5;124mb\u001b[39m\u001b[38;5;124m\"\u001b[39m \u001b[38;5;129;01mnot\u001b[39;00m \u001b[38;5;129;01min\u001b[39;00m ioargs\u001b[38;5;241m.\u001b[39mmode:\n\u001b[1;32m    872\u001b[0m         \u001b[38;5;66;03m# Encoding\u001b[39;00m\n\u001b[0;32m--> 873\u001b[0m         handle \u001b[38;5;241m=\u001b[39m \u001b[38;5;28;43mopen\u001b[39;49m\u001b[43m(\u001b[49m\n\u001b[1;32m    874\u001b[0m \u001b[43m            \u001b[49m\u001b[43mhandle\u001b[49m\u001b[43m,\u001b[49m\n\u001b[1;32m    875\u001b[0m \u001b[43m            \u001b[49m\u001b[43mioargs\u001b[49m\u001b[38;5;241;43m.\u001b[39;49m\u001b[43mmode\u001b[49m\u001b[43m,\u001b[49m\n\u001b[1;32m    876\u001b[0m \u001b[43m            \u001b[49m\u001b[43mencoding\u001b[49m\u001b[38;5;241;43m=\u001b[39;49m\u001b[43mioargs\u001b[49m\u001b[38;5;241;43m.\u001b[39;49m\u001b[43mencoding\u001b[49m\u001b[43m,\u001b[49m\n\u001b[1;32m    877\u001b[0m \u001b[43m            \u001b[49m\u001b[43merrors\u001b[49m\u001b[38;5;241;43m=\u001b[39;49m\u001b[43merrors\u001b[49m\u001b[43m,\u001b[49m\n\u001b[1;32m    878\u001b[0m \u001b[43m            \u001b[49m\u001b[43mnewline\u001b[49m\u001b[38;5;241;43m=\u001b[39;49m\u001b[38;5;124;43m\"\u001b[39;49m\u001b[38;5;124;43m\"\u001b[39;49m\u001b[43m,\u001b[49m\n\u001b[1;32m    879\u001b[0m \u001b[43m        \u001b[49m\u001b[43m)\u001b[49m\n\u001b[1;32m    880\u001b[0m     \u001b[38;5;28;01melse\u001b[39;00m:\n\u001b[1;32m    881\u001b[0m         \u001b[38;5;66;03m# Binary mode\u001b[39;00m\n\u001b[1;32m    882\u001b[0m         handle \u001b[38;5;241m=\u001b[39m \u001b[38;5;28mopen\u001b[39m(handle, ioargs\u001b[38;5;241m.\u001b[39mmode)\n",
      "\u001b[0;31mFileNotFoundError\u001b[0m: [Errno 2] No such file or directory: '../../data/processed/datos_creditos_mc.csv'"
     ]
    }
   ],
   "source": [
    "df_creditos = pd.read_csv(\"../../data/processed/datos_creditos_mc.csv\", sep=\";\")\n",
    "display(df_creditos.head(1))\n",
    "\n",
    "df_tarjetas = pd.read_csv(\"../../data/processed/datos_tarjetas_mc.csv\", sep=\";\")\n",
    "display(df_tarjetas.head(1))"
   ]
  },
  {
   "cell_type": "markdown",
   "metadata": {},
   "source": [
    "---\n",
    "#### Verificación de calidad de datos\n",
    "\n",
    "**Análisis a realizar**\n",
    "\n",
    "1. Evaluación de valores nulos (filas y columnas)\n",
    "2. Evaluación de formato válido\n",
    "3. Valores ajustados en rangos (ver anexos)\n",
    "4. Claves únicas\n",
    "5. Integridad referencial\n",
    "6. Cumplimiento de reglas en valores"
   ]
  },
  {
   "cell_type": "code",
   "execution_count": null,
   "metadata": {},
   "outputs": [],
   "source": [
    "# Establecimiento de los umbrales de aceptación\n",
    "\n",
    "FORMATEO_VALORES = 0.1\n",
    "RANGOS_VALORES = 0.0\n",
    "INTEGRIDAD_REF = 0.1\n",
    "REGLAS_VALORES = 0.1\n",
    "\n",
    "# Valores globales\n",
    "\n",
    "cantidad_filas_creditos = df_creditos.shape[0]\n",
    "cantidad_filas_tarjetas = df_tarjetas.shape[0]"
   ]
  },
  {
   "cell_type": "markdown",
   "metadata": {},
   "source": [
    "## Dimensión: completitud\n",
    "\n",
    "### (1a) Filas"
   ]
  },
  {
   "cell_type": "code",
   "execution_count": null,
   "metadata": {},
   "outputs": [],
   "source": [
    "# Se obtienen las cantidades de valores nulos por columna\n",
    "\n",
    "nulos_x_columna_c = df_creditos.isna().sum()\n",
    "nulos_x_columna_t = df_tarjetas.isna().sum()\n",
    "\n",
    "print(f\"Cantidad de filas que tienen valores nulos por atributo:\\n{nulos_x_columna_c}\\n\")\n",
    "print(f\"Cantidad de filas que tienen valores nulos por atributo:\\n{nulos_x_columna_t}\")"
   ]
  },
  {
   "cell_type": "code",
   "execution_count": null,
   "metadata": {},
   "outputs": [],
   "source": [
    "# De cualquier manera se establece el cálculo a realizar\n",
    "\n",
    "cantidad_columnas = len(df_creditos.axes[1])\n",
    "\n",
    "df_creditos['completitud_fila'] = (df_creditos.isnull().sum(axis=1) / cantidad_columnas)\n",
    "\n",
    "problemas = df_creditos[df_creditos['completitud_fila'] >= 0.2]\n",
    "\n",
    "completitud_f = problemas.shape[0]\n",
    "\n",
    "print(f\"Filas que incumplen el umbral de nulos en columnas [completitud_f] - créditos - :\")\n",
    "print(f\"{completitud_f} ({round((completitud_f  / cantidad_filas_creditos) * 100, 2)})%\")"
   ]
  },
  {
   "cell_type": "code",
   "execution_count": null,
   "metadata": {},
   "outputs": [],
   "source": [
    "# De cualquier manera se establece el cálculo a realizar\n",
    "\n",
    "cantidad_columnas = len(df_tarjetas.axes[1])\n",
    "\n",
    "df_tarjetas['completitud_fila'] = (df_tarjetas.isnull().sum(axis=1) / cantidad_columnas)\n",
    "\n",
    "problemas = df_tarjetas[df_tarjetas['completitud_fila'] >= 0.2]\n",
    "\n",
    "completitud_f = problemas.shape[0]\n",
    "\n",
    "print(f\"Filas que incumplen el umbral de nulos en columnas [completitud_f] - tarjetas - :\")\n",
    "print(f\"{completitud_f} ({round((completitud_f  / cantidad_filas_creditos) * 100, 2)})%\")"
   ]
  },
  {
   "cell_type": "markdown",
   "metadata": {},
   "source": [
    "### (1b) Dataset"
   ]
  },
  {
   "cell_type": "code",
   "execution_count": null,
   "metadata": {},
   "outputs": [],
   "source": [
    "completitud_dc = df_creditos.isnull().any(axis=1).sum()\n",
    "\n",
    "print(f\"Filas que presentan nulos en el dataset [completitud_d] - creditos - :\")\n",
    "print(f\"{completitud_dc} ({round((completitud_dc  / cantidad_filas_creditos) * 100, 2)})%\\n\")\n",
    "\n",
    "completitud_dt = df_tarjetas.isnull().any(axis=1).sum()\n",
    "\n",
    "print(f\"Filas que presentan nulos en el dataset [completitud_d] - tarjetas - :\")\n",
    "print(f\"{completitud_dt} ({round((completitud_dt  / cantidad_filas_tarjetas) * 100, 2)})%\")"
   ]
  },
  {
   "cell_type": "markdown",
   "metadata": {},
   "source": [
    "----\n",
    "\n",
    "## Dimensión: exactitud\n",
    "\n",
    "### (2) Formato válido"
   ]
  },
  {
   "cell_type": "code",
   "execution_count": null,
   "metadata": {},
   "outputs": [],
   "source": [
    "# No se encuentran atributos con formato específico"
   ]
  },
  {
   "cell_type": "markdown",
   "metadata": {},
   "source": [
    "----\n",
    "\n",
    "## Dimensión: exactitud\n",
    "\n",
    "### (3) Valores ajustados"
   ]
  },
  {
   "cell_type": "markdown",
   "metadata": {},
   "source": [
    "Atributo: **edad**"
   ]
  },
  {
   "cell_type": "code",
   "execution_count": null,
   "metadata": {},
   "outputs": [],
   "source": [
    "#Verificar que los valores de cada atributo se encuentren dentro de los listados anexos\n",
    "\n",
    "#Atributo: edad\n",
    "\n",
    "valores = df_creditos['edad'].value_counts() #Conteo de ocurrencias por valor (not-null)\n",
    "print(f\"Distribución inicial del atributo: \\n{valores}\\n\")\n",
    "\n",
    "cantidad_nulos = len(df_creditos['edad']) - df_creditos['edad'].count() # Conteo de nulos\n",
    "\n",
    "if cantidad_nulos > 0:\n",
    "    print(f\"Cantidad de nulos en el atributo: {cantidad_nulos}\\n\") # Impresión de la cantidad de nulos\n",
    "else:\n",
    "    print(\"No existen filas con valores nulos para este atributo.\\n\")\n",
    "\n",
    "\n",
    "# Se identifica y cuenta a los valores que no cumplen la condición definida\n",
    "\n",
    "resultado = df_creditos[df_creditos['edad'] > 90]\n",
    "\n",
    "print(\"Se visualizan las filas con errores de rango:\")\n",
    "display(resultado) # Para visualizar las tuplas con valores nulos o erróneos\n",
    "\n",
    "print(f\"Cantidad detectada: {resultado.shape[0]}\")"
   ]
  },
  {
   "cell_type": "code",
   "execution_count": null,
   "metadata": {},
   "outputs": [],
   "source": [
    "def calcular_rangos_valores_edad():\n",
    "    edad_valores_fuera_rango = resultado.shape[0] + cantidad_nulos\n",
    "    print(f\"Cantidad de filas con valores fuera de rango en atributo edad: {edad_valores_fuera_rango}\")\n",
    "    \n",
    "    indicador = (edad_valores_fuera_rango / cantidad_filas_creditos)\n",
    "    print(f\"Porcentaje de filas con errores de rango de valores (atributo edad): {round(indicador * 100, 2)} %\")\n",
    "\n",
    "    if (indicador > RANGOS_VALORES):\n",
    "        print('Evaluación: no cumplimiento')\n",
    "    else:\n",
    "        print('Evaluación: ok')\n",
    "\n",
    "calcular_rangos_valores_edad()"
   ]
  },
  {
   "cell_type": "code",
   "execution_count": null,
   "metadata": {},
   "outputs": [],
   "source": [
    "#Verificar que los valores de cada atributo se encuentren dentro de los listados anexos\n",
    "\n",
    "#Atributo: importe\n",
    "\n",
    "valores = df_creditos['importe_solicitado'].value_counts() #Conteo de ocurrencias por valor (not-null)\n",
    "print(f\"Distribución inicial del atributo: \\n{valores}\\n\")\n",
    "\n",
    "cantidad_nulos = len(df_creditos['importe_solicitado']) - df_creditos['importe_solicitado'].count() # Conteo de nulos\n",
    "\n",
    "if cantidad_nulos > 0:\n",
    "    print(f\"Cantidad de nulos en el atributo: {cantidad_nulos}\\n\") # Impresión de la cantidad de nulos\n",
    "else:\n",
    "    print(\"No existen filas con valores nulos para este atributo.\\n\")\n",
    "\n",
    "\n",
    "# Se identifica y cuenta a los valores que no cumplen la condición definida\n",
    "\n",
    "resultado = df_creditos[df_creditos['importe_solicitado'] < 0]\n",
    "\n",
    "print(\"Se visualizan las filas con errores de rango:\")\n",
    "display(resultado) # Para visualizar las tuplas con valores nulos o erróneos\n",
    "\n",
    "print(f\"Cantidad detectada: {resultado.shape[0]}\")"
   ]
  },
  {
   "cell_type": "code",
   "execution_count": null,
   "metadata": {},
   "outputs": [],
   "source": [
    "#Verificar que los valores de cada atributo se encuentren dentro de los listados anexos\n",
    "\n",
    "#Atributo: duracion_credito\n",
    "\n",
    "valores = df_creditos['duracion_credito'].value_counts() #Conteo de ocurrencias por valor (not-null)\n",
    "print(f\"Distribución inicial del atributo: \\n{valores}\\n\")\n",
    "\n",
    "cantidad_nulos = len(df_creditos['duracion_credito']) - df_creditos['duracion_credito'].count() # Conteo de nulos\n",
    "\n",
    "if cantidad_nulos > 0:\n",
    "    print(f\"Cantidad de nulos en el atributo: {cantidad_nulos}\\n\") # Impresión de la cantidad de nulos\n",
    "else:\n",
    "    print(\"No existen filas con valores nulos para este atributo.\\n\")\n",
    "\n",
    "\n",
    "# Se identifica y cuenta a los valores que no cumplen la condición definida\n",
    "\n",
    "resultado = df_creditos[df_creditos['duracion_credito'] < 0]\n",
    "\n",
    "print(\"Se visualizan las filas con errores de rango:\")\n",
    "display(resultado) # Para visualizar las tuplas con valores nulos o erróneos\n",
    "\n",
    "print(f\"Cantidad detectada: {resultado.shape[0]}\")"
   ]
  },
  {
   "cell_type": "code",
   "execution_count": null,
   "metadata": {},
   "outputs": [],
   "source": [
    "#Verificar que los valores de cada atributo se encuentren dentro de los listados anexos\n",
    "\n",
    "#Atributo: antiguedad_empleado\n",
    "\n",
    "valores = df_creditos['antiguedad_empleado'].value_counts() #Conteo de ocurrencias por valor (not-null)\n",
    "print(f\"Distribución inicial del atributo: \\n{valores}\\n\")\n",
    "\n",
    "cantidad_nulos = len(df_creditos['antiguedad_empleado']) - df_creditos['antiguedad_empleado'].count() # Conteo de nulos\n",
    "\n",
    "if cantidad_nulos > 0:\n",
    "    print(f\"Cantidad de nulos en el atributo: {cantidad_nulos}\\n\") # Impresión de la cantidad de nulos\n",
    "else:\n",
    "    print(\"No existen filas con valores nulos para este atributo.\\n\")\n",
    "\n",
    "\n",
    "# Se identifica y cuenta a los valores que no cumplen la condición definida\n",
    "\n",
    "resultado = df_creditos[df_creditos['antiguedad_empleado'] > 50]\n",
    "\n",
    "print(\"Se visualizan las filas con errores de rango:\")\n",
    "display(resultado) # Para visualizar las tuplas con valores nulos o erróneos\n",
    "\n",
    "print(f\"Cantidad detectada: {resultado.shape[0]}\")"
   ]
  },
  {
   "cell_type": "markdown",
   "metadata": {},
   "source": [
    "Se procesa el atributo: **situacion_vivienda**\n"
   ]
  },
  {
   "cell_type": "code",
   "execution_count": null,
   "metadata": {},
   "outputs": [],
   "source": [
    "#Verificar que los valores de cada atributo se encuentren dentro de los listados anexos\n",
    "\n",
    "#Atributo: situacion_vivienda\n",
    "\n",
    "valores = df_creditos['situacion_vivienda'].value_counts() #Conteo de ocurrencias por valor (not-null)\n",
    "print(f\"Distribución inicial del atributo: \\n{valores}\\n\")\n",
    "\n",
    "cantidad_nulos = len(df_creditos['situacion_vivienda']) - df_creditos['situacion_vivienda'].count() # Conteo de nulos\n",
    "\n",
    "if cantidad_nulos > 0:\n",
    "    print(f\"Cantidad de nulos en el atributo: {cantidad_nulos}\\n\") # Impresión de la cantidad de nulos\n",
    "else:\n",
    "    print(\"No existen filas con valores nulos para este atributo.\\n\")\n",
    "\n",
    "\n",
    "# Se identifica y cuenta a los valores que no cumplen la condición definida\n",
    "    \n",
    "valores_validos = 'ALQUILER|PROPIA|HIPOTECA|OTROS' # Se define una re de los valores validos según el anexo\n",
    "\n",
    "df_creditos['situacion_vivienda_ok'] = df_creditos['situacion_vivienda'].astype(str).str.match(valores_validos)\n",
    "\n",
    "print(\"Se visualizan las filas con errores de rango:\")\n",
    "display(df_creditos[df_creditos['situacion_vivienda_ok'] == False]) # Para visualizar las tuplas con valores nulos o erróneos\n",
    "\n",
    "# Se identifica y cuenta a los valores que no cumplen la condición definida\n",
    "\n",
    "resultado = df_creditos[df_creditos['situacion_vivienda_ok'] == False] \n",
    "print(f\"Cantidad detectada: {resultado.shape[0]}\")"
   ]
  },
  {
   "cell_type": "code",
   "execution_count": null,
   "metadata": {},
   "outputs": [],
   "source": [
    "def calcular_rangos_valores_situacion_vivienda():\n",
    "    situacion_vivienda_valores_fuera_rango = resultado.shape[0] + cantidad_nulos\n",
    "    print(f\"Cantidad de filas con valores fuera de rango en atributo situacion_vivienda: {situacion_vivienda_valores_fuera_rango}\")\n",
    "    \n",
    "    indicador = (situacion_vivienda_valores_fuera_rango / cantidad_filas_creditos)\n",
    "    print(f\"Porcentaje de filas con errores de rango de valores (atributo situacion_vivienda): {round(indicador * 100, 2)} %\")\n",
    "\n",
    "    if (indicador > RANGOS_VALORES):\n",
    "        print('Evaluación: no cumplimiento')\n",
    "    else:\n",
    "        print('Evaluación: ok')\n",
    "\n",
    "calcular_rangos_valores_situacion_vivienda()"
   ]
  },
  {
   "cell_type": "code",
   "execution_count": null,
   "metadata": {},
   "outputs": [],
   "source": [
    "#Verificar que los valores de cada atributo se encuentren dentro de los listados anexos\n",
    "\n",
    "#Atributo: objetivo_credito\n",
    "\n",
    "valores = df_creditos['objetivo_credito'].value_counts() #Conteo de ocurrencias por valor (not-null)\n",
    "print(f\"Distribución inicial del atributo: \\n{valores}\\n\")\n",
    "\n",
    "cantidad_nulos = len(df_creditos['objetivo_credito']) - df_creditos['objetivo_credito'].count() # Conteo de nulos\n",
    "\n",
    "if cantidad_nulos > 0:\n",
    "    print(f\"Cantidad de nulos en el atributo: {cantidad_nulos}\\n\") # Impresión de la cantidad de nulos\n",
    "else:\n",
    "    print(\"No existen filas con valores nulos para este atributo.\\n\")\n",
    "\n",
    "\n",
    "# Se identifica y cuenta a los valores que no cumplen la condición definida\n",
    "    \n",
    "valores_validos = 'EDUCACIÓN|SALUD|INVERSIONES|PAGO_DEUDAS|PERSONAL|MEJORAS_HOGAR' \n",
    "\n",
    "# Se define una re de los valores validos según el anexo\n",
    "\n",
    "df_creditos['objetivo_credito_ok'] = df_creditos['objetivo_credito'].astype(str).str.match(valores_validos)\n",
    "\n",
    "print(\"Se visualizan las filas con errores de rango:\")\n",
    "display(df_creditos[df_creditos['objetivo_credito_ok'] == False]) # Para visualizar las tuplas con valores nulos o erróneos\n",
    "\n",
    "# Se identifica y cuenta a los valores que no cumplen la condición definida\n",
    "\n",
    "resultado = df_creditos[df_creditos['objetivo_credito_ok'] == False] \n",
    "print(f\"Cantidad detectada: {resultado.shape[0]}\")"
   ]
  },
  {
   "cell_type": "markdown",
   "metadata": {},
   "source": [
    "----\n",
    "\n",
    "Tarjetas"
   ]
  },
  {
   "cell_type": "code",
   "execution_count": null,
   "metadata": {},
   "outputs": [],
   "source": [
    "#Verificar que los valores de cada atributo se encuentren dentro de los listados anexos\n",
    "\n",
    "#Atributo: antiguedad_cliente\n",
    "\n",
    "valores = df_tarjetas['antiguedad_cliente'].value_counts() #Conteo de ocurrencias por valor (not-null)\n",
    "print(f\"Distribución inicial del atributo: \\n{valores}\\n\")\n",
    "\n",
    "cantidad_nulos = len(df_tarjetas['antiguedad_cliente']) - df_tarjetas['antiguedad_cliente'].count() # Conteo de nulos\n",
    "\n",
    "if cantidad_nulos > 0:\n",
    "    print(f\"Cantidad de nulos en el atributo: {cantidad_nulos}\\n\") # Impresión de la cantidad de nulos\n",
    "else:\n",
    "    print(\"No existen filas con valores nulos para este atributo.\\n\")\n",
    "\n",
    "\n",
    "# Se identifica y cuenta a los valores que no cumplen la condición definida\n",
    "\n",
    "resultado = df_tarjetas[df_tarjetas['antiguedad_cliente'] < 0]\n",
    "\n",
    "print(\"Se visualizan las filas con errores de rango:\")\n",
    "display(resultado) # Para visualizar las tuplas con valores nulos o erróneos\n",
    "\n",
    "print(f\"Cantidad detectada: {resultado.shape[0]}\")"
   ]
  },
  {
   "cell_type": "code",
   "execution_count": null,
   "metadata": {},
   "outputs": [],
   "source": [
    "#Verificar que los valores de cada atributo se encuentren dentro de los listados anexos\n",
    "\n",
    "#Atributo: personas_a_cargo\n",
    "\n",
    "valores = df_tarjetas['personas_a_cargo'].value_counts() #Conteo de ocurrencias por valor (not-null)\n",
    "print(f\"Distribución inicial del atributo: \\n{valores}\\n\")\n",
    "\n",
    "cantidad_nulos = len(df_tarjetas['personas_a_cargo']) - df_tarjetas['personas_a_cargo'].count() # Conteo de nulos\n",
    "\n",
    "if cantidad_nulos > 0:\n",
    "    print(f\"Cantidad de nulos en el atributo: {cantidad_nulos}\\n\") # Impresión de la cantidad de nulos\n",
    "else:\n",
    "    print(\"No existen filas con valores nulos para este atributo.\\n\")\n",
    "\n",
    "\n",
    "# Se identifica y cuenta a los valores que no cumplen la condición definida\n",
    "\n",
    "resultado = df_tarjetas[df_tarjetas['personas_a_cargo'] < 0]\n",
    "\n",
    "print(\"Se visualizan las filas con errores de rango:\")\n",
    "display(resultado) # Para visualizar las tuplas con valores nulos o erróneos\n",
    "\n",
    "print(f\"Cantidad detectada: {resultado.shape[0]}\")"
   ]
  },
  {
   "cell_type": "markdown",
   "metadata": {},
   "source": [
    "- nominales"
   ]
  },
  {
   "cell_type": "code",
   "execution_count": null,
   "metadata": {},
   "outputs": [],
   "source": [
    "#Verificar que los valores de cada atributo se encuentren dentro de los listados anexos\n",
    "\n",
    "#Atributo: estado_civil\n",
    "\n",
    "valores = df_tarjetas['estado_civil'].value_counts() #Conteo de ocurrencias por valor (not-null)\n",
    "print(f\"Distribución inicial del atributo: \\n{valores}\\n\")\n",
    "\n",
    "cantidad_nulos = len(df_tarjetas['estado_civil']) - df_tarjetas['estado_civil'].count() # Conteo de nulos\n",
    "\n",
    "if cantidad_nulos > 0:\n",
    "    print(f\"Cantidad de nulos en el atributo: {cantidad_nulos}\\n\") # Impresión de la cantidad de nulos\n",
    "else:\n",
    "    print(\"No existen filas con valores nulos para este atributo.\\n\")\n",
    "\n",
    "\n",
    "# Se identifica y cuenta a los valores que no cumplen la condición definida\n",
    "    \n",
    "valores_validos = 'CASADO|SOLTERO|DESCONOCIDO|DIVORCIADO' # Se define una re de los valores validos según el anexo\n",
    "\n",
    "df_tarjetas['estado_civil_ok'] = df_tarjetas['estado_civil'].astype(str).str.match(valores_validos)\n",
    "\n",
    "print(\"Se visualizan las filas con errores de rango:\")\n",
    "display(df_tarjetas[df_tarjetas['estado_civil_ok'] == False]) # Para visualizar las tuplas con valores nulos o erróneos\n",
    "\n",
    "# Se identifica y cuenta a los valores que no cumplen la condición definida\n",
    "\n",
    "resultado = df_tarjetas[df_tarjetas['estado_civil_ok'] == False] \n",
    "print(f\"Cantidad detectada: {resultado.shape[0]}\")"
   ]
  },
  {
   "cell_type": "markdown",
   "metadata": {},
   "source": [
    "---\n",
    "\n",
    "## Dimensión: consistencia\n",
    "\n",
    "### (4) Claves únicas\n",
    "\n",
    "Dataset: **datos_creditos**"
   ]
  },
  {
   "cell_type": "code",
   "execution_count": null,
   "metadata": {},
   "outputs": [],
   "source": [
    "#Se obtiene el valor de la cantidad de filas actual\n",
    "cant_antes = df_creditos.shape[0] \n",
    "\n",
    "# Se ordena el dataset según el atributo que se desee evaluar (requerido para el paso siguiente)\n",
    "df_creditos.sort_values(\"id_cliente\", inplace=True)\n",
    "\n",
    "# Se detectan y eliminan los duplicados en un atributo dejando la última ocurrencia\n",
    "df_creditos.drop_duplicates(subset =\"id_cliente\", keep = 'last', inplace = True)\n",
    "\n",
    "# Se obtiene el valor posterior a la operación\n",
    "cant_despues = df_creditos.shape[0]\n",
    "\n",
    "# Se imprimen ambos valores\n",
    "print('Dataset: creditos')\n",
    "print(f\"Antes del análisis de duplicados: {cant_antes} - Despues del filtrado de duplicados: {cant_despues}\")\n",
    "if cant_antes > cant_despues:\n",
    "    diferencia = cant_antes - cant_despues\n",
    "    pct_diferencia = ((cant_antes - cant_despues) / cant_antes) * 100\n",
    "    print(f\"Se detectaron claves duplicadas en {diferencia} fila(s) un {round(pct_diferencia, 2)}%.\")\n",
    "else:\n",
    "    print(\"No se detectaron claves duplicadas\")"
   ]
  },
  {
   "cell_type": "markdown",
   "metadata": {},
   "source": [
    "Dataset: **datos_tarjetas**"
   ]
  },
  {
   "cell_type": "code",
   "execution_count": null,
   "metadata": {},
   "outputs": [],
   "source": [
    "# Se obtiene el valor de la cantidad de filas actual\n",
    "cant_antes = df_tarjetas.shape[0]  \n",
    "\n",
    "# Se ordena el dataset según el atributo que se desee evaluar (requerido para el paso siguiente)\n",
    "df_tarjetas.sort_values(\"id_cliente\", inplace=True)\n",
    "\n",
    "# Se detectan y eliminan los duplicados en un atributo dejando la última ocurrencia\n",
    "df_tarjetas.drop_duplicates(subset =\"id_cliente\", keep = 'last', inplace = True)\n",
    "\n",
    "# Se obtiene el valor posterior a la operación\n",
    "cant_despues = df_tarjetas.shape[0]\n",
    "\n",
    "#Se imprimen ambos valores\n",
    "print('Dataset: tarjetas')\n",
    "print(f\"Antes del análisis de duplicados: {cant_antes} - Despues del filtrado de duplicados: {cant_despues}\")\n",
    "if cant_antes > cant_despues:\n",
    "    diferencia = cant_antes - cant_despues\n",
    "    pct_diferencia = ((cant_antes - cant_despues) / cant_antes) * 100\n",
    "    print(f\"Se detectaron claves duplicadas en {diferencia} fila(s) un {round(pct_diferencia, 2)}%.\")\n",
    "else:\n",
    "    print(\"No se detectaron claves duplicadas\")"
   ]
  },
  {
   "cell_type": "markdown",
   "metadata": {},
   "source": [
    "### (5) Integridad referencial"
   ]
  },
  {
   "cell_type": "code",
   "execution_count": null,
   "metadata": {},
   "outputs": [],
   "source": [
    "# Las uniones se hacen de a pares - revisar nombres de atributos\n",
    "\n",
    "df_integrado = pd.merge(df_creditos, df_tarjetas, on='id_cliente', how='inner')\n",
    "coincidencias = df_integrado.shape[0]\n",
    "\n",
    "print(f\"Datos de créditos: {cantidad_filas_creditos} - Coincidencias con datos de tarjetas: {coincidencias}\")\n",
    "\n",
    "print(\"\\nSe visualiza el dataset resultante:\")\n",
    "display(df_integrado.head(5))\n",
    "\n",
    "print(f\"Reporte general:\\n \\\n",
    "- Filas del dataset creditos (inicial): {cantidad_filas_creditos}\\n \\\n",
    "- Filas del dataset tarjetas (inicial): {cantidad_filas_tarjetas}\\n \\\n",
    "- Errores detectados en la operación de unión: {abs(coincidencias - cantidad_filas_creditos)} \\n \\\n",
    "- Filas del dataset unificado: {df_integrado.shape[0]}\")"
   ]
  },
  {
   "cell_type": "code",
   "execution_count": null,
   "metadata": {},
   "outputs": [],
   "source": [
    "def calcular_integridad_referencial():\n",
    "    cant_problemas = cantidad_filas_creditos - df_integrado.shape[0] # Se calcula sobre el inicio (foco)\n",
    "    print(f\"Casos de problemas de integridad referencial: {cant_problemas}\")\n",
    "\n",
    "    indicador = (cant_problemas / cantidad_filas_creditos)\n",
    "    print(f\"Porcentaje de filas con problemas de integridad referencial: {round(indicador * 100, 2)} %\")\n",
    "\n",
    "    if (indicador > INTEGRIDAD_REF):\n",
    "        print('Evaluación: no cumplimiento')\n",
    "    else:\n",
    "        print('Evaluación: ok')\n",
    "        \n",
    "calcular_integridad_referencial()"
   ]
  },
  {
   "cell_type": "markdown",
   "metadata": {},
   "source": [
    "---\n",
    "\n",
    "## Dimensión exactitud (bis)\n",
    "### (6) Reglas en valores\n",
    "\n",
    "Regla 1: Para aquellos casos en que los créditos constituyan un porcentaje de los ingresos del cliente mayor al 50% sus ingresos deberán ser mayores a 20.000.\n",
    "\n",
    "Regla 2: Para aquellos créditos cuya duración sea la mínima permitida el porcentaje de los ingresos del cliente (con respecto al importe solicitado) no podrá exceder el 60% salvo en los casos en los que sea propietario de su vivienda."
   ]
  },
  {
   "cell_type": "code",
   "execution_count": null,
   "metadata": {},
   "outputs": [],
   "source": [
    "#Se puede definir una función para aplicar los cálculos\n",
    "def regla_pct_ingresos_credito(row):\n",
    "    pct_ingreso = row.pct_ingreso\n",
    "    ingresos = row.ingresos\n",
    "    \n",
    "    if pct_ingreso > 0.5 and ingresos <= 20000:\n",
    "        # Es un error, no cumple la regla definida\n",
    "        return 'err'\n",
    "    else:\n",
    "        return 'ok'\n",
    "\n",
    "\n",
    "# Se aplica la función para todos los elementos del dataset\n",
    "regla_pct_ingresos = df_integrado.apply(lambda row: regla_pct_ingresos_credito(row), axis=1).rename(\"regla_pct_ingresos\")\n",
    "\n",
    "# Se unen los resultados al dataset inicial\n",
    "df_resultado = pd.concat([df_integrado, regla_pct_ingresos], axis=1)  \n",
    "\n",
    "# Se visualizan los datos\n",
    "print(\"Se visualizan las tuplas que no cumplen con la regla:\\n\")\n",
    "display(df_resultado[df_resultado.regla_pct_ingresos == 'err'].head())\n",
    "\n",
    "\n",
    "# Se verifica la cantidad de elementos\n",
    "aux = df_resultado[df_resultado.regla_pct_ingresos == 'err']\n",
    "print(f\"Cantidad de filas que no cumplen la regla: {aux.shape[0]}\")"
   ]
  }
 ],
 "metadata": {
  "kernelspec": {
   "display_name": "data",
   "language": "python",
   "name": "python3"
  },
  "language_info": {
   "codemirror_mode": {
    "name": "ipython",
    "version": 3
   },
   "file_extension": ".py",
   "mimetype": "text/x-python",
   "name": "python",
   "nbconvert_exporter": "python",
   "pygments_lexer": "ipython3",
   "version": "3.9.6"
  }
 },
 "nbformat": 4,
 "nbformat_minor": 2
}
